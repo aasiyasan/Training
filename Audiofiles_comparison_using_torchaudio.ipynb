{
  "nbformat": 4,
  "nbformat_minor": 0,
  "metadata": {
    "colab": {
      "provenance": [],
      "authorship_tag": "ABX9TyPrwsKIdIySPA7HXbUCUdtC",
      "include_colab_link": true
    },
    "kernelspec": {
      "name": "python3",
      "display_name": "Python 3"
    },
    "language_info": {
      "name": "python"
    }
  },
  "cells": [
    {
      "cell_type": "markdown",
      "metadata": {
        "id": "view-in-github",
        "colab_type": "text"
      },
      "source": [
        "<a href=\"https://colab.research.google.com/github/aasiyasan/Training/blob/main/Audiofiles_comparison_using_torchaudio.ipynb\" target=\"_parent\"><img src=\"https://colab.research.google.com/assets/colab-badge.svg\" alt=\"Open In Colab\"/></a>"
      ]
    },
    {
      "cell_type": "code",
      "execution_count": null,
      "metadata": {
        "id": "0-wqFH0qGkYj"
      },
      "outputs": [],
      "source": [
        "!pip install torch torchaudio faiss-cpu transformers pillow tqdm"
      ]
    },
    {
      "cell_type": "code",
      "source": [
        "!apt install libomp-dev\n",
        "!pip install faiss-cpu"
      ],
      "metadata": {
        "id": "mWakX1IaL-GV"
      },
      "execution_count": null,
      "outputs": []
    },
    {
      "cell_type": "code",
      "source": [
        "import os\n",
        "import requests\n",
        "from io import BytesIO\n",
        "from tqdm import tqdm\n",
        "\n",
        "import torch\n",
        "from torchaudio import transforms\n",
        "from transformers import CLIPProcessor, CLIPModel\n",
        "import faiss\n",
        "import numpy as np"
      ],
      "metadata": {
        "id": "C3o_WdgTHT1J"
      },
      "execution_count": null,
      "outputs": []
    },
    {
      "cell_type": "code",
      "source": [
        "# Load CLIP\n",
        "device = \"cuda\" if torch.cuda.is_available() else \"cpu\"\n",
        "model = CLIPModel.from_pretrained(\"openai/clip-vit-base-patch32\").to(device)\n",
        "processor = CLIPProcessor.from_pretrained(\"openai/clip-vit-base-patch32\")\n",
        "\n",
        "# Sample dataset of audio URLs\n",
        "audio_urls = [\n",
        "    \"https://freeanimalsounds.org/download/95/?tmstv=1757038065\",\n",
        "    \"https://freeanimalsounds.org/download/115/?tmstv=1757038065\",\n",
        "    \"https://freeanimalsounds.org/download/124/?tmstv=1757038065\",\n",
        "    \"https://freeanimalsounds.org/download/150/?tmstv=1757038065\",\n",
        "    \"https://freeanimalsounds.org/download/165/?tmstv=1757038065\",\n",
        "    \"https://freeanimalsounds.org/download/218/?tmstv=1757038065\",\n",
        "    \"https://freeanimalsounds.org/download/220/?tmstv=1757038065\",\n",
        "    \"https://freeanimalsounds.org/download/227/?tmstv=1757038065\",\n",
        "    \"https://freeanimalsounds.org/download/223/?tmstv=1757038065\",\n",
        "    \"https://freeanimalsounds.org/download/230/?tmstv=1757038065\",\n",
        "    \"https://freeanimalsounds.org/download/258/?tmstv=1757038065\",\n",
        "    \"https://freeanimalsounds.org/download/270/?tmstv=1757038065\",\n",
        "    \"https://freeanimalsounds.org/download/271/?tmstv=1757038065\",\n",
        "    \"https://freeanimalsounds.org/download/272/?tmstv=1757038065\",\n",
        "    \"https://freeanimalsounds.org/download/250/?tmstv=1757038065\"\n",
        "]\n"
      ],
      "metadata": {
        "id": "FspFwCBoH1ze"
      },
      "execution_count": null,
      "outputs": []
    },
    {
      "cell_type": "code",
      "source": [
        "os.makedirs(\"dataset\", exist_ok=True)\n",
        "audio_paths = []\n",
        "audio_names = []\n",
        "# Download audio files\n",
        "for i, url in enumerate(tqdm(audio_urls, desc=\"Downloading animal sounds\")):\n",
        "    response = requests.get(url)\n",
        "    if response.status_code == 200:\n",
        "        path = f\"dataset/audi_{i}.mp3\"\n",
        "        with open(path, \"wb\") as f:\n",
        "            f.write(response.content)\n",
        "        audio_paths.append(path)\n",
        "\n",
        "for p in audio_paths:\n",
        "    audio_names.append(p)"
      ],
      "metadata": {
        "id": "hgRlkfIaKVW4"
      },
      "execution_count": null,
      "outputs": []
    },
    {
      "cell_type": "code",
      "source": [
        "\n",
        "from transformers import Wav2Vec2Model, Wav2Vec2Processor\n",
        "\n",
        "device = \"cuda\" if torch.cuda.is_available() else \"cpu\"\n",
        "model_name = \"facebook/wav2vec2-base-960h\"\n",
        "\n",
        "processor = Wav2Vec2Processor.from_pretrained(model_name)\n",
        "model = Wav2Vec2Model.from_pretrained(model_name).to(device)\n"
      ],
      "metadata": {
        "id": "JkAlabJkPFOi"
      },
      "execution_count": null,
      "outputs": []
    },
    {
      "cell_type": "code",
      "source": [
        "import librosa\n",
        "import numpy as np\n",
        "\n",
        "def get_audio_embedding(path):\n",
        "    waveform, sr = librosa.load(path, sr=16000)\n",
        "    inputs = processor(waveform, sampling_rate=16000, return_tensors=\"pt\", padding=True).to(device)\n",
        "    with torch.no_grad():\n",
        "        outputs = model(**inputs)\n",
        "        hidden_states = outputs.last_hidden_state  # shape: (batch, time, features)\n",
        "        embedding = hidden_states.mean(dim=1).squeeze().cpu().numpy()  # mean pooling\n",
        "    return embedding\n"
      ],
      "metadata": {
        "id": "Nvs8wSCYSFQY"
      },
      "execution_count": null,
      "outputs": []
    },
    {
      "cell_type": "code",
      "source": [
        "import faiss\n",
        "\n",
        "embeddings = []\n",
        "\n",
        "for path in tqdm(audio_paths, desc=\"Embedding audios\"):\n",
        "    vec = get_audio_embedding(path)\n",
        "    embeddings.append(vec)\n",
        "\n",
        "embeddings = np.stack(embeddings).astype(\"float32\")\n",
        "\n",
        "dimension = embeddings.shape[1]\n",
        "index = faiss.IndexFlatL2(dimension)\n",
        "index.add(embeddings)\n",
        "\n",
        "faiss.write_index(index, \"audio_index.faiss\")\n"
      ],
      "metadata": {
        "id": "RiVlB_TBSP49"
      },
      "execution_count": null,
      "outputs": []
    },
    {
      "cell_type": "code",
      "source": [
        "import torchaudio\n",
        "def search_similar_audio(query_path, top_k=3):\n",
        "    index = faiss.read_index(\"audio_index.faiss\")\n",
        "\n",
        "    query_vec = get_audio_embedding(query_path).astype(\"float32\").reshape(1, -1)\n",
        "    distances, indices = index.search(query_vec, top_k)\n",
        "\n",
        "    print(f\"Query audio: {query_path}\")\n",
        "    print(\"Top matches:\")\n",
        "    for idx, dist in zip(indices[0], distances[0]):\n",
        "        print(f\"{audio_names[idx]} - Distance: {dist}\")\n",
        "        #torchaudio.io.play_audio(torchaudio.load(audio_urls[idx]))\n"
      ],
      "metadata": {
        "id": "GK5QwwsiSjuX"
      },
      "execution_count": null,
      "outputs": []
    },
    {
      "cell_type": "code",
      "source": [
        "search_similar_audio(\"/content/horse-neigh.mp3\")"
      ],
      "metadata": {
        "colab": {
          "base_uri": "https://localhost:8080/"
        },
        "id": "OVVyAuJNT33n",
        "outputId": "7cc3b061-d30d-4316-e1a3-aacd172c7f40"
      },
      "execution_count": null,
      "outputs": [
        {
          "output_type": "stream",
          "name": "stdout",
          "text": [
            "Query audio: /content/horse-neigh.mp3\n",
            "Top matches:\n",
            "dataset/audi_14.mp3 - Distance: 1.3530620336532593\n",
            "dataset/audi_11.mp3 - Distance: 2.0406339168548584\n",
            "dataset/audi_10.mp3 - Distance: 2.6627511978149414\n"
          ]
        }
      ]
    }
  ]
}