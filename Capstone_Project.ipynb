{
  "cells": [
    {
      "cell_type": "markdown",
      "metadata": {
        "id": "view-in-github",
        "colab_type": "text"
      },
      "source": [
        "<a href=\"https://colab.research.google.com/github/aasiyasan/Training/blob/main/Capstone_Project.ipynb\" target=\"_parent\"><img src=\"https://colab.research.google.com/assets/colab-badge.svg\" alt=\"Open In Colab\"/></a>"
      ]
    },
    {
      "cell_type": "code",
      "source": [
        "!pip install langchain\n",
        "!pip install langchain-openai\n",
        "!pip install langchain_community\n",
        "!pip install chromadb\n",
        "!pip install langchain-google-genai\n",
        "!pip install pypdf"
      ],
      "metadata": {
        "id": "_XvjET86IpQZ"
      },
      "id": "_XvjET86IpQZ",
      "execution_count": null,
      "outputs": []
    },
    {
      "cell_type": "code",
      "source": [
        "!pip install twilio"
      ],
      "metadata": {
        "id": "hbbNWVbTND9g"
      },
      "id": "hbbNWVbTND9g",
      "execution_count": null,
      "outputs": []
    },
    {
      "cell_type": "code",
      "source": [
        "# import libraries\n",
        "import os\n",
        "from langchain_community.document_loaders import PyPDFLoader\n",
        "from sentence_transformers import SentenceTransformer\n",
        "from langchain.text_splitter import RecursiveCharacterTextSplitter\n",
        "from langchain_openai import OpenAIEmbeddings\n",
        "from langchain_community.vectorstores import Chroma\n",
        "from langchain.prompts import ChatPromptTemplate\n",
        "\n",
        "from langchain_google_genai import ChatGoogleGenerativeAI\n",
        "from langchain_community.embeddings import HuggingFaceEmbeddings\n",
        "from sentence_transformers import SentenceTransformer\n",
        "\n",
        "import sqlite3\n",
        "from twilio.rest import Client\n",
        "import smtplib\n",
        "from email.mime.text import MIMEText\n",
        "from email.mime.multipart import MIMEMultipart\n",
        "from google.colab import userdata\n",
        "import tweepy"
      ],
      "metadata": {
        "id": "s0xIXi2sJlND"
      },
      "id": "s0xIXi2sJlND",
      "execution_count": 3,
      "outputs": []
    },
    {
      "cell_type": "code",
      "execution_count": 4,
      "id": "05d42893",
      "metadata": {
        "id": "05d42893"
      },
      "outputs": [],
      "source": [
        "gemini_api_key = userdata.get(\"GoogleAPIKey\")"
      ]
    },
    {
      "cell_type": "code",
      "source": [
        "CHROMA_PATH = \"Chroma\"\n",
        "# ----- Data Indexing Process -----\n",
        "# load your pdf docs\n",
        "DOC_PATH = \"/content/Test.pdf\"\n",
        "# load your pdf doc\n",
        "loader = PyPDFLoader(DOC_PATH)\n",
        "pages = loader.load()\n",
        "# split the doc into smaller chunks i.e. chunk_size=500\n",
        "text_splitter = RecursiveCharacterTextSplitter(chunk_size=500, chunk_overlap=50)\n",
        "chunks = text_splitter.split_documents(pages)\n",
        "\n",
        "# get OpenAI Embedding model\n",
        "#embeddings = HuggingFaceEmbeddings(model_name=\"nomic-ai/nomic-embed-text-v1\", model_kwargs={'device': 'cpu'})\n",
        "embeddings=HuggingFaceEmbeddings(model_name=\"sentence-transformers/all-MiniLM-L6-v2\")\n",
        "# embed the chunks as vectors and load them into the database.\n",
        "db_chroma = Chroma.from_documents(chunks, embeddings, persist_directory=CHROMA_PATH)\n",
        "# ----- Retrieval and Generation Process -----\n",
        "\n",
        "# this is an example of a user question (query)\n",
        "#query = 'what are the top risks mentioned in the document?'\n",
        "query='Summarize Nike Fiscal 2025 results'\n"
      ],
      "metadata": {
        "id": "aztPcqaQKZhO"
      },
      "id": "aztPcqaQKZhO",
      "execution_count": null,
      "outputs": []
    },
    {
      "cell_type": "code",
      "source": [
        "\n",
        "# retrieve context - top 5 most relevant (closests) chunks to the query vector\n",
        "# (by default Langchain is using cosine distance metric)\n",
        "docs_chroma = db_chroma.similarity_search_with_score(query, k=5)\n",
        "\n",
        "# generate an answer based on given user query and retrieved context information\n",
        "context_text = \"\\n\\n\".join([doc.page_content for doc, _score in docs_chroma])\n",
        "# you can use a prompt template\n",
        "PROMPT_TEMPLATE = \"\"\"Answer the question based only on the following context:\n",
        "{context}\n",
        "Answer the question based on the above context: {question}.\n",
        "Provide a detailed answer.\n",
        "Don’t justify your answers.\n",
        "Don’t give information not mentioned in the CONTEXT INFORMATION.\n",
        "Do not say \"according to the context\" or \"mentioned in the context\" or similar.\n",
        "\"\"\""
      ],
      "metadata": {
        "id": "J5GfI1wwK10a"
      },
      "id": "J5GfI1wwK10a",
      "execution_count": 7,
      "outputs": []
    },
    {
      "cell_type": "code",
      "source": [
        "# load retrieved context and user query in the prompt template\n",
        "prompt_template = ChatPromptTemplate.from_template(PROMPT_TEMPLATE)\n",
        "prompt = prompt_template.format(context=context_text, question=query)\n",
        "\n",
        "# call LLM model to generate the answer based on the given context and query\n",
        "#using google genai instead of open AI here\n",
        "\n",
        "llm = ChatGoogleGenerativeAI(model=\"gemini-2.5-flash\" ,api_key=userdata.get('GoogleAPIKey'))\n",
        "\n",
        "response_text = llm.predict(prompt)\n",
        "print(response_text)"
      ],
      "metadata": {
        "colab": {
          "base_uri": "https://localhost:8080/"
        },
        "id": "KNAvImroLJ7P",
        "outputId": "8dde9ade-ae44-499b-c6a9-bd6824f68a8c"
      },
      "id": "KNAvImroLJ7P",
      "execution_count": 9,
      "outputs": [
        {
          "output_type": "stream",
          "name": "stderr",
          "text": [
            "/tmp/ipython-input-3818356121.py:10: LangChainDeprecationWarning: The method `BaseChatModel.predict` was deprecated in langchain-core 0.1.7 and will be removed in 1.0. Use :meth:`~invoke` instead.\n",
            "  response_text = llm.predict(prompt)\n"
          ]
        },
        {
          "output_type": "stream",
          "name": "stdout",
          "text": [
            "NIKE, Inc. reported its financial results for fiscal 2025, which ended on May 31, 2025.\n",
            "\n",
            "**Overall Company Performance:**\n",
            "*   Full year revenues for NIKE, Inc. were $46.3 billion, representing a 10 percent decrease on a reported basis and a 9 percent decrease on a currency-neutral basis.\n",
            "*   Net income was $0.2 billion, down 86 percent.\n",
            "*   Diluted earnings per share was $0.14, also an 86 percent decrease.\n",
            "*   Total NIKE, Inc. Earnings Before Interest and Taxes (EBIT) for the twelve months ended May 31, 2025, were $3,778 million, a 42 percent decrease.\n",
            "*   The EBIT margin for the twelve months ended May 31, 2025, was 8.2 percent.\n",
            "*   Total NIKE, Inc. Income Before Income Taxes was $3,885 million, down 42 percent.\n",
            "\n",
            "**Brand and Segment Performance:**\n",
            "*   Revenues for the NIKE Brand were $44.7 billion, down 9 percent on both a reported and currency-neutral basis, driven by declines across all geographies.\n",
            "*   TOTAL NIKE BRAND Earnings Before Interest and Taxes (EBIT) were $5,740 million for the full year, a 34 percent decrease.\n",
            "*   Converse EBIT was $240 million, a 49 percent decrease.\n",
            "\n",
            "**Regional EBIT Performance for the Twelve Months Ended May 31, 2025:**\n",
            "*   North America EBIT was $4,735 million, down 19 percent.\n",
            "*   Europe, Middle East & Africa EBIT was $2,575 million, down 24 percent.\n",
            "*   Greater China EBIT was $1,602 million, down 31 percent.\n",
            "*   Asia Pacific & Latin America EBIT was $1,527 million, down 19 percent.\n",
            "*   Global Brand Divisions EBIT was $(4,699) million, showing 0 percent change.\n",
            "*   Corporate EBIT was $(2,202) million, up 16 percent.\n"
          ]
        }
      ]
    },
    {
      "cell_type": "markdown",
      "id": "8543a55d",
      "metadata": {
        "id": "8543a55d"
      },
      "source": [
        "# Stroing the Summary In SQLite"
      ]
    },
    {
      "cell_type": "code",
      "execution_count": 11,
      "id": "355edfc5",
      "metadata": {
        "id": "355edfc5"
      },
      "outputs": [],
      "source": [
        "conn = sqlite3.connect('responses.db')\n",
        "cursor = conn.cursor()\n",
        "cursor.execute('''\n",
        "    CREATE TABLE IF NOT EXISTS responses (\n",
        "        id INTEGER PRIMARY KEY AUTOINCREMENT,\n",
        "        query TEXT,\n",
        "        response TEXT\n",
        "    )\n",
        "''')\n",
        "\n",
        "\n",
        "cursor.execute('''\n",
        "    INSERT INTO responses (query, response) VALUES (?, ?)\n",
        "''', (query, response_text))\n",
        "\n",
        "\n",
        "conn.commit()\n",
        "conn.close()"
      ]
    },
    {
      "cell_type": "markdown",
      "id": "320d4160",
      "metadata": {
        "id": "320d4160"
      },
      "source": [
        "# Twilo Credentials"
      ]
    },
    {
      "cell_type": "code",
      "execution_count": 12,
      "id": "7bc14d88",
      "metadata": {
        "id": "7bc14d88"
      },
      "outputs": [],
      "source": [
        "# Twilio credentials\n",
        "account_sid = userdata.get(\"TwilioAccountId\")\n",
        "auth_token = userdata.get(\"TwiliouthToken\")"
      ]
    },
    {
      "cell_type": "markdown",
      "id": "dc2e11a2",
      "metadata": {
        "id": "dc2e11a2"
      },
      "source": [
        "# Sending the message to a WhatsAPP number"
      ]
    },
    {
      "cell_type": "code",
      "execution_count": null,
      "id": "781eab0d",
      "metadata": {
        "id": "781eab0d"
      },
      "outputs": [],
      "source": [
        "twilio_whatsapp_number = userdata.get(\"Twilio_Whatsappsender\")\n",
        "recipient_number = userdata.get(\"WhatsappRecipient\")\n",
        "\n",
        "client = Client(account_sid, auth_token)\n",
        "message = client.messages.create(\n",
        "        body=response_text,\n",
        "        from_=twilio_whatsapp_number,\n",
        "        to=recipient_number\n",
        "    )\n",
        "print(\"Message sent! SID:\", message.sid)\n"
      ]
    },
    {
      "cell_type": "markdown",
      "id": "7f550575",
      "metadata": {
        "id": "7f550575"
      },
      "source": [
        "# Sending the Summary as text message to the Phone no."
      ]
    },
    {
      "cell_type": "code",
      "execution_count": null,
      "id": "123aa328",
      "metadata": {
        "id": "123aa328"
      },
      "outputs": [],
      "source": [
        "twilio_phone_number = '+18777804236'\n",
        "recipient_number = userdata.get(\"recipientphnumber\")\n",
        "\n",
        "\n",
        "client = Client(account_sid, auth_token)\n",
        "message = client.messages.create(\n",
        "        body=response_text,\n",
        "        from_=twilio_phone_number,\n",
        "        to=recipient_number\n",
        "    )\n",
        "print(\"SMS sent! SID:\", message.sid)\n"
      ]
    },
    {
      "cell_type": "markdown",
      "id": "2f052fde",
      "metadata": {
        "id": "2f052fde"
      },
      "source": [
        "# Send the summary as an Email"
      ]
    },
    {
      "cell_type": "code",
      "execution_count": null,
      "id": "5839178f",
      "metadata": {
        "id": "5839178f"
      },
      "outputs": [],
      "source": [
        "\n",
        "    # Email configuration\n",
        "    sender_email = userdata.get(\"sender_email\")\n",
        "    sender_password = \"uigkkansdpzlsqwq\"\n",
        "    recipient_email = userdata.get(\"recipient_email\")\n",
        "    subject = \"Document Summary - Test\"\n",
        "\n",
        "    # Create the email message\n",
        "    msg = MIMEMultipart()\n",
        "    msg['From'] = sender_email\n",
        "    msg['To'] = recipient_email\n",
        "    msg['Subject'] = subject\n",
        "    msg.attach(MIMEText(response_text, 'plain'))\n",
        "\n",
        "    # Send the email\n",
        "    try:\n",
        "        with smtplib.SMTP_SSL('smtp.gmail.com', 465) as server:\n",
        "            server.login(sender_email, sender_password)\n",
        "            server.sendmail(sender_email, recipient_email, msg.as_string())\n",
        "        print(\"Email sent successfully!\")\n",
        "    except Exception as e:\n",
        "        print(\"Failed to send email:\", e)"
      ]
    },
    {
      "cell_type": "markdown",
      "id": "37caf22b",
      "metadata": {
        "id": "37caf22b"
      },
      "source": [
        "# Posting the message in Twitter"
      ]
    },
    {
      "cell_type": "code",
      "execution_count": null,
      "id": "0879ad14",
      "metadata": {
        "id": "0879ad14"
      },
      "outputs": [],
      "source": [
        "# Twitter API credentials (replace with your own)\n",
        "consumer_key = ''\n",
        "consumer_secret = ''\n",
        "access_token = ''\n",
        "access_token_secret = ''\n",
        "\n",
        "\n",
        "#Shorten to 280 characters if needed\n",
        "if len(response_text) > 280:\n",
        "    response_text = response_text[:277] + '...'\n",
        "print(\"Tweet message:\", response_text)\n",
        "\n",
        "# Post to Twitter\n",
        "auth = tweepy.OAuth1UserHandler(\n",
        "    consumer_key, consumer_secret, access_token, access_token_secret\n",
        ")\n",
        "api = tweepy.API(auth)\n",
        "try:\n",
        "    api.update_status(response_text)\n",
        "    print(\"Tweet posted successfully!\")\n",
        "except Exception as e:\n",
        "    print(\"Failed to post tweet:\", e)\n"
      ]
    }
  ],
  "metadata": {
    "kernelspec": {
      "display_name": "Python 3",
      "language": "python",
      "name": "python3"
    },
    "language_info": {
      "codemirror_mode": {
        "name": "ipython",
        "version": 3
      },
      "file_extension": ".py",
      "mimetype": "text/x-python",
      "name": "python",
      "nbconvert_exporter": "python",
      "pygments_lexer": "ipython3",
      "version": "3.13.7"
    },
    "colab": {
      "provenance": [],
      "include_colab_link": true
    }
  },
  "nbformat": 4,
  "nbformat_minor": 5
}